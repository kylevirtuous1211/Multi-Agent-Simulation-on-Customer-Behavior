{
  "cells": [
    {
      "cell_type": "markdown",
      "metadata": {
        "colab_type": "text",
        "id": "view-in-github"
      },
      "source": [
        "<a href=\"https://colab.research.google.com/github/kylevirtuous1211/Multi-Agent-Simulation-on-Customer-Behavior/blob/main/AI_Agent_CoT.ipynb\" target=\"_parent\"><img src=\"https://colab.research.google.com/assets/colab-badge.svg\" alt=\"Open In Colab\"/></a>"
      ]
    },
    {
      "cell_type": "code",
      "execution_count": null,
      "metadata": {
        "id": "Bcm1wBP4uY4a"
      },
      "outputs": [],
      "source": [
        "# import os\n",
        "# from google.colab import userdata"
      ]
    },
    {
      "cell_type": "code",
      "execution_count": null,
      "metadata": {
        "id": "6-5Znsppuzj1"
      },
      "outputs": [],
      "source": [
        "# api_key = userdata.get('Groq')\n",
        "# os.environ['GROQ_API_KEY']=api_key"
      ]
    },
    {
      "cell_type": "code",
      "execution_count": 1,
      "metadata": {},
      "outputs": [
        {
          "name": "stdout",
          "output_type": "stream",
          "text": [
            "API Key: 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\n"
          ]
        }
      ],
      "source": [
        "import os\n",
        "api_key = os.environ.get('GROQ_API')\n",
        "print(f\"API Key: {api_key}\")"
      ]
    },
    {
      "cell_type": "markdown",
      "metadata": {
        "id": "qC16mD6NvMmR"
      },
      "source": [
        "## Chain of Thought\n",
        "1. plan: list some subtasks\n",
        "2. solve subtasks with LLM and return results\n",
        "3. Give the reasoning model"
      ]
    },
    {
      "cell_type": "code",
      "execution_count": 3,
      "metadata": {
        "id": "blTPGMcAvCpL"
      },
      "outputs": [],
      "source": [
        "def reply (prompt=\"Hi\", system=\"You're a unbiased customer that gives feedback on the product that hasn't be on the internet\",\n",
        "           provider=\"groq\",\n",
        "           model=\"llama3-70b-8192\"):\n",
        "  client = ai.Client()\n",
        "  messages = [\n",
        "      {\"role\": \"system\", \"content\": system},\n",
        "      {\"role\": \"user\", \"content\": prompt}\n",
        "  ]\n",
        "  response = client.chat.completions.create(\n",
        "      messages=messages,\n",
        "      model=f\"{provider}:{model}\"\n",
        "  )\n",
        "\n",
        "  return response.choices[0].message.content"
      ]
    },
    {
      "cell_type": "markdown",
      "metadata": {
        "id": "qsnPUtJxw-Gs"
      },
      "source": [
        "## make a multi-stage planner"
      ]
    },
    {
      "cell_type": "code",
      "execution_count": 4,
      "metadata": {
        "id": "WnIFRMilw8Kv"
      },
      "outputs": [],
      "source": [
        "system_planner = \"List some (more than one) customer persona would buy the product from the description of the prompt\"\n",
        "system_writer = \"According to one of the persona, write a review of how customer would react.\"\n",
        "system_critic = \"based on how it reacts, return how the product are expected to be better or some critical points\"\n",
        "system_verdict = \"according to the reaction and critical points, give a verdict of whether would buy or not\""
      ]
    },
    {
      "cell_type": "code",
      "execution_count": 5,
      "metadata": {
        "id": "ji7SvqISzKNj"
      },
      "outputs": [],
      "source": [
        "def customer_behavior(prompt = \"product design, cost, texture, appearance...\"):\n",
        "  planning_prompt = f\"This is the product that we are testing the customer reaction: {prompt}\"\n",
        "  found_persona = reply(prompt=planning_prompt, system=system_planner)\n",
        "\n",
        "  writer_prompt = f\"write the review for {prompt}, based on {found_persona}\"\n",
        "  review = reply(prompt=writer_prompt, system=system_writer)\n",
        "\n",
        "  critic_prompt = f\"from the description: {prompt}, give some potential critical points of the product\"\n",
        "  critics = reply(prompt=critic_prompt, system=system_critic)\n",
        "\n",
        "  system_verdict = f\"based on {review}, {critics}. Give a final verdict out of 100 of the probability of customer buying intention\"\n",
        "  verdict = reply(prompt=system_verdict, system=system_verdict)\n",
        "\n",
        "  return found_persona, review, critics, verdict"
      ]
    },
    {
      "cell_type": "markdown",
      "metadata": {
        "id": "ENXUwhPq8NxU"
      },
      "source": [
        "# 結果\n",
        "\n",
        "## 實驗設計\n",
        "這禮拜的目標與以前相同，想要用ai agent預測市場客群的行為，我運用了4個Chain of Thought的agent來進行這次的模擬。\n",
        "1. CoT1: 先列出可能購買的目標客群\n",
        "2. CoT2: 針對對產品的第一印象進行描寫 (LLM回答幾乎都是正面的)\n",
        "3. CoT3: 列出可能的負面點\n",
        "4. 最終review: 針對正向、負向的市場觀點，進行最後市場客群行為結果的撰寫。\n",
        "\n",
        "## 實驗結果：\n",
        "我發現用多個LLM更能減少最終回答的hallucination，將原本工作divide and conquer，分別交給不同的LLM，就能忠實地達到想要的目標\n",
        "### 優點\n",
        "* 成功最後給出量化購買意願 (out of 100)\n",
        "* 指令都有據實的達到，最後總結我也蠻滿意的\n",
        "### 缺點\n",
        "* 回答有點太發散，且太多情緒用詞 => 可能不能只用敘述 (給模型的資訊太少了)\n",
        "* 缺乏真實數據支持 => 需要RAG\n",
        "* 缺乏real time input => 可以加上網路搜尋工具\n"
      ]
    },
    {
      "cell_type": "code",
      "execution_count": 6,
      "metadata": {
        "colab": {
          "base_uri": "https://localhost:8080/",
          "height": 650
        },
        "id": "PEzB0p0E08Rp",
        "outputId": "bc302e9f-6a8a-4597-b656-aabba5996a29"
      },
      "outputs": [
        {
          "name": "stdout",
          "output_type": "stream",
          "text": [
            "* Running on local URL:  http://127.0.0.1:7860\n",
            "* To create a public link, set `share=True` in `launch()`.\n"
          ]
        },
        {
          "data": {
            "text/html": [
              "<div><iframe src=\"http://127.0.0.1:7860/\" width=\"100%\" height=\"500\" allow=\"autoplay; camera; microphone; clipboard-read; clipboard-write;\" frameborder=\"0\" allowfullscreen></iframe></div>"
            ],
            "text/plain": [
              "<IPython.core.display.HTML object>"
            ]
          },
          "metadata": {},
          "output_type": "display_data"
        },
        {
          "data": {
            "text/plain": []
          },
          "execution_count": 6,
          "metadata": {},
          "output_type": "execute_result"
        }
      ],
      "source": [
        "# prompt: use gr.Row() to generate outputs in different textbox\n",
        "\n",
        "import gradio as gr\n",
        "\n",
        "with gr.Blocks() as demo:\n",
        "    gr.Markdown(\"# Simulation of Customer Behavior\")\n",
        "    gr.Markdown(\"## enter a description of your product: we can analyze customer's thought, reaction and their purchase intention\")\n",
        "    with gr.Row():\n",
        "        product_text = gr.Textbox(label=\"Enter product description\")\n",
        "    with gr.Row():\n",
        "        text_output_persona = gr.Textbox(label=\"Customer Personas (CoT 1)\")\n",
        "        text_output_review = gr.Textbox(label=\"Customer Review (CoT 2)\")\n",
        "        text_output_critics = gr.Textbox(label=\"Customer  (CoT 3)\")\n",
        "        text_output_verdict = gr.Textbox(label=\"Customer final verdict\")\n",
        "\n",
        "    btn = gr.Button(\"Submit\")\n",
        "    btn.click(fn=customer_behavior, inputs=product_text, outputs=[text_output_persona, text_output_review, text_output_critics, text_output_verdict])\n",
        "\n",
        "demo.launch()\n"
      ]
    },
    {
      "cell_type": "code",
      "execution_count": 8,
      "metadata": {
        "id": "a49PmzPC1y7t"
      },
      "outputs": [],
      "source": []
    }
  ],
  "metadata": {
    "colab": {
      "authorship_tag": "ABX9TyO6K/f+Z9sFKrOYk0TIVgEU",
      "include_colab_link": true,
      "provenance": []
    },
    "kernelspec": {
      "display_name": "CVLAB",
      "language": "python",
      "name": "python3"
    },
    "language_info": {
      "codemirror_mode": {
        "name": "ipython",
        "version": 3
      },
      "file_extension": ".py",
      "mimetype": "text/x-python",
      "name": "python",
      "nbconvert_exporter": "python",
      "pygments_lexer": "ipython3",
      "version": "3.10.16"
    }
  },
  "nbformat": 4,
  "nbformat_minor": 0
}
