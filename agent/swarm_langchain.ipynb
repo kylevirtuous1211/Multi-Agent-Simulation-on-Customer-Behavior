{
 "cells": [
  {
   "cell_type": "code",
   "execution_count": 25,
   "id": "eb884cb7",
   "metadata": {},
   "outputs": [
    {
     "name": "stdout",
     "output_type": "stream",
     "text": [
      "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\n",
      "c:\\Users\\Admin-62501\\Desktop\\Coding\\Projects\\Customer agents for market simulation\\agent\\.env\n"
     ]
    }
   ],
   "source": [
    "import os\n",
    "from dotenv import load_dotenv\n",
    "from langchain_openai import ChatOpenAI\n",
    "from pathlib import Path\n",
    "\n",
    "# Load environment variables from .env file\n",
    "current_dir = os.getcwd()\n",
    "env_path = os.path.join(current_dir, '.env')\n",
    "# Access your API key from the .env file\n",
    "load_dotenv(dotenv_path=env_path)  \n",
    "api_key = os.getenv(\"API_KEY\")\n",
    "# Initialize the model with the API key\n",
    "model = ChatOpenAI(model=\"llama-3.3-70b-versatile\", api_key=api_key, base_url=\"https://api.groq.com/openai/v1\")\n",
    "print(api_key)\n",
    "print(env_path)"
   ]
  },
  {
   "cell_type": "markdown",
   "id": "b17e0513",
   "metadata": {},
   "source": [
    "我們也可以自己寫agent: https://langchain-ai.github.io/langgraph/how-tos/react-agent-from-scratch/\n",
    "\n",
    "\n",
    "`config` object in LangGraph Swarm, specifically the {\"configurable\": {\"thread_id\": \"1\"}} structure, is not modified by the system during execution. It serves as a persistent identifier that you provide to maintain conversation state across multiple interactions\n",
    "\n",
    "`router` in `StateGraph`: router refers to a special type of node or function that determines the flow of execution through the graph based on the current state. It acts as a decision-making component that directs which node should be executed next."
   ]
  },
  {
   "cell_type": "code",
   "execution_count": null,
   "id": "25d11835",
   "metadata": {},
   "outputs": [
    {
     "name": "stdout",
     "output_type": "stream",
     "text": [
      "{'messages': [HumanMessage(content=\"i'd like to speak to Bob\", additional_kwargs={}, response_metadata={}, id='b35e6d5a-3a62-46c2-8ca8-0a4b945b3b94'), AIMessage(content='', additional_kwargs={'tool_calls': [{'id': 'call_2966', 'function': {'arguments': '{}', 'name': 'transfer_to_bob'}, 'type': 'function'}], 'refusal': None}, response_metadata={'token_usage': {'completion_tokens': 12, 'prompt_tokens': 275, 'total_tokens': 287, 'completion_tokens_details': None, 'prompt_tokens_details': None, 'queue_time': 0.262570968, 'prompt_time': 0.024186555, 'completion_time': 0.043636364, 'total_time': 0.067822919}, 'model_name': 'llama-3.3-70b-versatile', 'system_fingerprint': 'fp_3f3b593e33', 'id': 'chatcmpl-2324f17b-a548-40ad-a1e7-c760ebfb415d', 'service_tier': None, 'finish_reason': 'tool_calls', 'logprobs': None}, name='Alice', id='run--6bd1fe6e-6074-4935-80da-7399e5f7cf0a-0', tool_calls=[{'name': 'transfer_to_bob', 'args': {}, 'id': 'call_2966', 'type': 'tool_call'}], usage_metadata={'input_tokens': 275, 'output_tokens': 12, 'total_tokens': 287, 'input_token_details': {}, 'output_token_details': {}}), ToolMessage(content='Successfully transferred to Bob', name='transfer_to_bob', id='c78654cb-62c6-46ed-91d3-d38cc6cf4caf', tool_call_id='call_2966'), AIMessage(content=\"Yer lookin' fer me, eh? Well, matey, I be Bob, the scurvy dog. What be bringin' ye to these fair waters?\", additional_kwargs={'refusal': None}, response_metadata={'token_usage': {'completion_tokens': 37, 'prompt_tokens': 256, 'total_tokens': 293, 'completion_tokens_details': None, 'prompt_tokens_details': None, 'queue_time': 0.265912601, 'prompt_time': 0.01637068, 'completion_time': 0.134545455, 'total_time': 0.150916135}, 'model_name': 'llama-3.3-70b-versatile', 'system_fingerprint': 'fp_3f3b593e33', 'id': 'chatcmpl-584c5205-4767-4413-ae66-1b2716775a37', 'service_tier': None, 'finish_reason': 'stop', 'logprobs': None}, name='Bob', id='run--223a9aa1-55df-4204-a795-8ca84f0f8a61-0', usage_metadata={'input_tokens': 256, 'output_tokens': 37, 'total_tokens': 293, 'input_token_details': {}, 'output_token_details': {}})], 'active_agent': 'Bob'}\n",
      "{'messages': [HumanMessage(content=\"i'd like to speak to Bob\", additional_kwargs={}, response_metadata={}, id='b35e6d5a-3a62-46c2-8ca8-0a4b945b3b94'), AIMessage(content='', additional_kwargs={'tool_calls': [{'id': 'call_2966', 'function': {'arguments': '{}', 'name': 'transfer_to_bob'}, 'type': 'function'}], 'refusal': None}, response_metadata={'token_usage': {'completion_tokens': 12, 'prompt_tokens': 275, 'total_tokens': 287, 'completion_tokens_details': None, 'prompt_tokens_details': None, 'queue_time': 0.262570968, 'prompt_time': 0.024186555, 'completion_time': 0.043636364, 'total_time': 0.067822919}, 'model_name': 'llama-3.3-70b-versatile', 'system_fingerprint': 'fp_3f3b593e33', 'id': 'chatcmpl-2324f17b-a548-40ad-a1e7-c760ebfb415d', 'service_tier': None, 'finish_reason': 'tool_calls', 'logprobs': None}, name='Alice', id='run--6bd1fe6e-6074-4935-80da-7399e5f7cf0a-0', tool_calls=[{'name': 'transfer_to_bob', 'args': {}, 'id': 'call_2966', 'type': 'tool_call'}], usage_metadata={'input_tokens': 275, 'output_tokens': 12, 'total_tokens': 287, 'input_token_details': {}, 'output_token_details': {}}), ToolMessage(content='Successfully transferred to Bob', name='transfer_to_bob', id='c78654cb-62c6-46ed-91d3-d38cc6cf4caf', tool_call_id='call_2966'), AIMessage(content=\"Yer lookin' fer me, eh? Well, matey, I be Bob, the scurvy dog. What be bringin' ye to these fair waters?\", additional_kwargs={'refusal': None}, response_metadata={'token_usage': {'completion_tokens': 37, 'prompt_tokens': 256, 'total_tokens': 293, 'completion_tokens_details': None, 'prompt_tokens_details': None, 'queue_time': 0.265912601, 'prompt_time': 0.01637068, 'completion_time': 0.134545455, 'total_time': 0.150916135}, 'model_name': 'llama-3.3-70b-versatile', 'system_fingerprint': 'fp_3f3b593e33', 'id': 'chatcmpl-584c5205-4767-4413-ae66-1b2716775a37', 'service_tier': None, 'finish_reason': 'stop', 'logprobs': None}, name='Bob', id='run--223a9aa1-55df-4204-a795-8ca84f0f8a61-0', usage_metadata={'input_tokens': 256, 'output_tokens': 37, 'total_tokens': 293, 'input_token_details': {}, 'output_token_details': {}}), HumanMessage(content=\"what's 5 + 7?\", additional_kwargs={}, response_metadata={}, id='df095777-2d02-4a26-84f1-d751273efa73'), AIMessage(content='', additional_kwargs={'tool_calls': [{'id': 'call_d8tq', 'function': {'arguments': '{}', 'name': 'transfer_to_alice'}, 'type': 'function'}], 'refusal': None}, response_metadata={'token_usage': {'completion_tokens': 50, 'prompt_tokens': 310, 'total_tokens': 360, 'completion_tokens_details': None, 'prompt_tokens_details': None, 'queue_time': 0.261828056, 'prompt_time': 0.026766866, 'completion_time': 0.209440237, 'total_time': 0.236207103}, 'model_name': 'llama-3.3-70b-versatile', 'system_fingerprint': 'fp_2ddfbb0da0', 'id': 'chatcmpl-4236d530-a405-4638-b8e3-3fcf2d59abca', 'service_tier': None, 'finish_reason': 'tool_calls', 'logprobs': None}, name='Bob', id='run--b0badbd8-84b6-4f97-a892-59683f1b4528-0', tool_calls=[{'name': 'transfer_to_alice', 'args': {}, 'id': 'call_d8tq', 'type': 'tool_call'}], usage_metadata={'input_tokens': 310, 'output_tokens': 50, 'total_tokens': 360, 'input_token_details': {}, 'output_token_details': {}}), ToolMessage(content='Successfully transferred to Alice', name='transfer_to_alice', id='b512863a-f4a2-467d-a617-a6542f5ab81c', tool_call_id='call_d8tq'), AIMessage(content='', additional_kwargs={'tool_calls': [{'id': 'call_bg7a', 'function': {'arguments': '{\"a\": 5, \"b\": 7}', 'name': 'add'}, 'type': 'function'}], 'refusal': None}, response_metadata={'token_usage': {'completion_tokens': 18, 'prompt_tokens': 381, 'total_tokens': 399, 'completion_tokens_details': None, 'prompt_tokens_details': None, 'queue_time': 0.255745391, 'prompt_time': 0.026734091, 'completion_time': 0.065454545, 'total_time': 0.092188636}, 'model_name': 'llama-3.3-70b-versatile', 'system_fingerprint': 'fp_3f3b593e33', 'id': 'chatcmpl-7d7660ba-7c4a-4838-bdc2-7445744592b0', 'service_tier': None, 'finish_reason': 'tool_calls', 'logprobs': None}, name='Alice', id='run--4e2a4abc-9b82-49fc-9050-b16f7330fda3-0', tool_calls=[{'name': 'add', 'args': {'a': 5, 'b': 7}, 'id': 'call_bg7a', 'type': 'tool_call'}], usage_metadata={'input_tokens': 381, 'output_tokens': 18, 'total_tokens': 399, 'input_token_details': {}, 'output_token_details': {}}), ToolMessage(content='12', name='add', id='a720e57f-2ccb-4a8b-9adf-1ea55f37c1e7', tool_call_id='call_bg7a'), AIMessage(content='The answer to 5 + 7 is 12.', additional_kwargs={'refusal': None}, response_metadata={'token_usage': {'completion_tokens': 13, 'prompt_tokens': 410, 'total_tokens': 423, 'completion_tokens_details': None, 'prompt_tokens_details': None, 'queue_time': 0.255930221, 'prompt_time': 0.049725888, 'completion_time': 0.047272727, 'total_time': 0.096998615}, 'model_name': 'llama-3.3-70b-versatile', 'system_fingerprint': 'fp_3f3b593e33', 'id': 'chatcmpl-0f5e572e-8593-40df-8db2-90886f3c7e8c', 'service_tier': None, 'finish_reason': 'stop', 'logprobs': None}, name='Alice', id='run--72062359-f016-423e-bc1d-3753528ed6dc-0', usage_metadata={'input_tokens': 410, 'output_tokens': 13, 'total_tokens': 423, 'input_token_details': {}, 'output_token_details': {}})], 'active_agent': 'Alice'}\n"
     ]
    }
   ],
   "source": [
    "from langgraph.checkpoint.memory import InMemorySaver\n",
    "from langgraph.store.memory import InMemoryStore\n",
    "from langgraph.prebuilt import create_react_agent\n",
    "from langgraph_swarm import create_handoff_tool, create_swarm\n",
    "\n",
    "def add(a: int, b: int) -> int:\n",
    "    \"\"\"Add two numbers\"\"\"\n",
    "    return a + b\n",
    "\n",
    "alice = create_react_agent(\n",
    "    model,\n",
    "    [add, create_handoff_tool(agent_name=\"Bob\")],\n",
    "    prompt=\"You are Alice, an addition expert.\",\n",
    "    name=\"Alice\",\n",
    ")\n",
    "\n",
    "bob = create_react_agent(\n",
    "    model,\n",
    "    [create_handoff_tool(agent_name=\"Alice\", description=\"Transfer to Alice, she can help with math\")],\n",
    "    prompt=\"You are Bob, you speak like a pirate.\",\n",
    "    name=\"Bob\",\n",
    ")\n",
    "# short-term memory\n",
    "# maintain conversation state across interactions\n",
    "checkpointer = InMemorySaver()\n",
    "# long-term memory\n",
    "store = InMemoryStore()\n",
    "\n",
    "workflow = create_swarm(\n",
    "    [alice, bob],\n",
    "    default_active_agent=\"Alice\"\n",
    ")\n",
    "# Compiles the state graph into a CompiledStateGraph object.\n",
    "app = workflow.compile(\n",
    "    checkpointer=checkpointer,\n",
    "    store=store\n",
    ")\n",
    "# \n",
    "config = {\"configurable\": {\"thread_id\": \"1\"}}\n",
    "turn_1 = app.invoke(\n",
    "    {\"messages\": [{\"role\": \"user\", \"content\": \"i'd like to speak to Bob\"}]},\n",
    "    config,\n",
    ")\n",
    "print(turn_1)\n",
    "turn_2 = app.invoke(\n",
    "    {\"messages\": [{\"role\": \"user\", \"content\": \"what's 5 + 7?\"}]},\n",
    "    config,\n",
    ")\n",
    "print(turn_2)"
   ]
  },
  {
   "cell_type": "markdown",
   "id": "aa1cdec4",
   "metadata": {},
   "source": [
    "Interactive agents"
   ]
  },
  {
   "cell_type": "code",
   "execution_count": 30,
   "id": "cea59134",
   "metadata": {},
   "outputs": [],
   "source": [
    "def format_agent_response(response):\n",
    "    \"\"\"Format the agent response for better readability.\"\"\"\n",
    "    agent_name = response.get(\"active_agent\", \"Unknown\")\n",
    "    messages = response.get(\"messages\", [])\n",
    "\n",
    "    if not messages:\n",
    "        return f\"[{agent_name}] No response.\"\n",
    "\n",
    "    last_message = messages[-1]\n",
    "    content = getattr(last_message, 'content', \"\")  # Access 'content' attribute directly\n",
    "\n",
    "    return f\"[{agent_name}] {content}\"\n",
    "\n",
    "def interactive_chat():\n",
    "    \"\"\"Run an interactive chat session with the agent swarm\"\"\"\n",
    "    print(\"Welcome to the Agent Swarm Chat!\")\n",
    "    print(\"Type 'exit' or 'quit' to end the conversation.\")\n",
    "    print(\"Starting with Alice as the default agent.\")\n",
    "    print(\"-\" * 50)\n",
    "    \n",
    "    while True:\n",
    "        # Get user input\n",
    "        user_input = input(\"You: \")\n",
    "        \n",
    "        # Check if user wants to exit\n",
    "        if user_input.lower() in [\"exit\", \"quit\"]:\n",
    "            print(\"Goodbye!\")\n",
    "            break\n",
    "        \n",
    "        # Create a message with just the current user input\n",
    "        # The checkpointer will maintain the conversation state\n",
    "        current_message = [{\"role\": \"user\", \"content\": user_input}]\n",
    "        \n",
    "        # Invoke the agent swarm with just the new message\n",
    "        response = app.invoke(\n",
    "            {\"messages\": current_message},\n",
    "            config,\n",
    "        )\n",
    "        \n",
    "        # Extract and display the agent's response\n",
    "        formatted_response = format_agent_response(response)\n",
    "        print(formatted_response)\n"
   ]
  },
  {
   "cell_type": "code",
   "execution_count": 31,
   "id": "4fa82b48",
   "metadata": {},
   "outputs": [
    {
     "name": "stdout",
     "output_type": "stream",
     "text": [
      "Welcome to the Agent Swarm Chat!\n",
      "Type 'exit' or 'quit' to end the conversation.\n",
      "Starting with Alice as the default agent.\n",
      "--------------------------------------------------\n",
      "[Bob] Yer already talkin' to me, matey! I be Bob, the pirate. What be on yer mind? Want to discuss some treasure or maybe sing a sea shanty?\n",
      "[Alice] Hello, I'm Alice. I can help with any addition problems you may have. What's on your mind?\n",
      "[Alice] My name is Alice. I'm an addition expert, which means I can help with any questions you have about adding numbers.\n",
      "[Alice] The answer to 1 + 1 is 2.\n",
      "[Alice] Hello! It's nice to meet you. I'm Alice, the addition expert. Is there a math problem you'd like help with?\n",
      "[Bob] Ahoy, matey! Welcome back to me ship. I be Bob, the scurvy dog. What be bringin' ye to these fair waters? Do ye have a treasure to share or a tale to tell?\n",
      "[Bob] I be a pirate, not a weather forecastin' landlubber. Me knowledge be limited to the seven seas and me trusty map. If ye want to know the weather, ye best be askin' someone else, matey. But I can tell ye that the winds be blowin' strong and the sun be shinin' bright on the horizon. Now, if ye be wantin' to know about the tides or the best route to take, I be yer man!\n",
      "Goodbye!\n"
     ]
    }
   ],
   "source": [
    "interactive_chat()"
   ]
  },
  {
   "cell_type": "code",
   "execution_count": null,
   "id": "c1b8f65a",
   "metadata": {},
   "outputs": [],
   "source": []
  }
 ],
 "metadata": {
  "kernelspec": {
   "display_name": "llm_agent",
   "language": "python",
   "name": "python3"
  },
  "language_info": {
   "codemirror_mode": {
    "name": "ipython",
    "version": 3
   },
   "file_extension": ".py",
   "mimetype": "text/x-python",
   "name": "python",
   "nbconvert_exporter": "python",
   "pygments_lexer": "ipython3",
   "version": "3.11.11"
  }
 },
 "nbformat": 4,
 "nbformat_minor": 5
}
